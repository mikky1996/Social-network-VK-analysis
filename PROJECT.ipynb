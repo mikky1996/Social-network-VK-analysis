{
 "cells": [
  {
   "cell_type": "markdown",
   "metadata": {},
   "source": [
    "# Анализ людей в социальной сети ВК\n",
    "\n",
    "##### Задача:\n",
    "Создать инструмент для кластеризации аккаунтов социальной сети ВК и анализа обьединяющих признаков.\n",
    "\n",
    "##### Зачем может применяться:\n",
    "1. Рекламы в соц. сетях \n",
    "2. Проведения эксперементов в области социологии\n",
    "3. Создания баз данных похожих пользователей, для различных целей\n",
    "4. Продвижение в соц. сетях\n",
    "\n",
    "##### Этот файл состоит из 3 частей:\n",
    "1. Теория\n",
    "2. Тестовый запуск\n",
    "3. Запуск на рельном пользователе сети\n",
    "\n",
    "##### Использованная литература:\n",
    "[1] Наглядная математичекая статистика (М.Б Лагутин)\n",
    "\n",
    "[2] Тематическое моделирование в BigARTM: теория, алгоритмы, приложения (К.В.Воронцов,А.И.Фрей)\n",
    "\n",
    "[3] Проверка гипотез об однородности и симметричности распределений для многомерных данных (Н.К Бакиров)\n",
    "\n",
    "[4] http://www.machinelearning.ru/"
   ]
  },
  {
   "cell_type": "markdown",
   "metadata": {},
   "source": [
    "## Теория\n",
    "$\\textbf{Введение к работе:}$\n",
    "\n",
    "В настоящем мире ежедневно миллионы человек, вставая с утра с кровати, первым делом заходят на свою страницу и бороздят просторы соц. сети, пока не приходит время делать что-то более важное. Со временем на странице скапливается большое количество информации. Инфорамция о привычках, хобби, увлечениях, политических вглядах - все в той или иной степени оседает на странице пользователя. Некоторые люди даже не задумываются, какой информационный след они оставляют о себе в соц. сетях.\n",
    "\n",
    "Идея этой работы заключается в том, чтобы проанализировать один из источников информации о пользователе и на основе этих данных обьединить пользователей по категориям и дать исследователю возможность изучить характерные признаки для группы. В качестве источника информации мы возьмем стену пользователя соц. сети.\n",
    "\n",
    "(Настояшая работа создавалась как инструмент изучения окружения обычного пользователя соц. сети, но по факту может использоваться в различных приложениях и для различных целей. Представленный здесь код можно быстро переориентировать для анализа контента других соц. сетей или источников информации.)\n",
    "\n",
    "$\\textbf{Приближения и идея работы:}$\n",
    "\n",
    "Первое приближение нашей работы будет заключаться в том, что мы будем отождествлять пользователя с информацией на стене его аккаунта.\n",
    "Конечно, это не совсем правильно, ведь есть много других модальностей, которые также несут инфорацию, но в рамках этой работы они будут проигнорированы.\n",
    "\n",
    "Второе приближение работы связано с приближениями использованными в алгоритмах BigARTM, такими как мешок слов, например. Подробнее о полном наборе этих приближений можно прочитать в [2].\n",
    "\n",
    "После нескольких экспериментов с векторными моделями я пришел к выводу, что для данной задачи они малоприменимы. Поэтому я обратился к более мощному инструменту для анализа текстов, а именно к тематическому моделированию, который после нескольких пробных запусков сразу показал свою способность выделять интерпретируемые темы из данного набора текстов. Отсюда идея: пусть каждый пользователь будет характеризоваться своим собственным распределением по темам.\n",
    "\n",
    "После построения модели в руках у исследователя появляются матрицы $\\Phi$ и $\\Theta$, вторая из них и будет являться матрицей объект/признаки. После получения матрицы $\\Theta$ перед исследователем встает обычная задача кластеризации.\n",
    "\n",
    "Далее мы опишем каждый шаг работы более подробно. \n",
    "\n",
    "$\\textbf{Откуда берется текст? :}$\n",
    "\n",
    "У каждого аккаунта соц. сети есть выделенное место, куда владелец аккаунта и его друзья могут писать сообщения. Это место называют стена.\n",
    "Каждый документ обрабатываемой коллекции представляет собой 100 первых записей со стены у друга исследуемого пользователя соц. сети.\n",
    "В итоге наша коллекция состоит из текстов с аккаунтов друзей исследуемого пользователя. Цифра 100 была выбрана, потому что API VK не разрешает скачивать больше записей у одного аккаунта. \n",
    "\n",
    "Иногда пользователь не разрешает просматривать свою стену программе, поэтому итоговое количесво документов - это количество друзей минус те из них, кто запретили исследовать их стену.\n",
    "\n",
    "$\\textbf{Как производилась предобработка текста? :}$\n",
    "\n",
    "После первого же построения тематической модели становится понятно, что предобработка текста в этом случае будет не совсем обычной.\n",
    "Те работы, что попадались мне во время подготовки, использовали стандартные стеммеры и списки стоп-слов из некоторой стандартной библиотеки (к примеру SnowballStemmer). В случае с соц. сетями этот подход малоприменим из-за огромного количесва жаргонных стоп-слов, которых нет в стандартных списках. Поэтому пришлось делать свой собсвенный список стоп-слов. Но одного человека мало для подобной задачи, так что для решения этой проблемы вскоре будет запушен сайт, где желающие смогут помочь проекту. \n",
    "\n",
    "$\\textbf{Как строилась тематическая модель? :}$\n",
    "\n",
    "Этот пункт лучше всего начать с обоснования выбора регуляризаторов и коэффицентов к ним.\n",
    "\n",
    "В этом проекте было выбранно 3 регуляризатора, а именно - разреживание $\\Phi$, разреживание $\\Theta$ и декоррелятор $\\Theta$.\n",
    "\n",
    "Разреживания $\\Phi$ и $\\Theta$ были выбраны для того, чтобы удовлетворять гипотезе разреженности (ведь для реализации последующей кластеризации тот факт, что матрицы разрежены, может сыграть на руку) и чтобы уменьшить энтропию распределения.\n",
    "\n",
    "Декоррелятор $\\Theta$ был выбран, так как после кластеризации исследователь должен ответить на вопрос, какая тема объединяет каждый кластер. Декоррелятор $\\Theta$ способствует увеличению различности тем, тем самым облегчая исследователю его задачу.\n",
    "\n",
    "Как описано в [4] и [2], автоматическая коррекция стратегий регуляризации является открытой проблемой машинного обучения, поэтому, подобрав коэффиценты на одном пользователе так, чтобы перплексия модели не сильно падала на фоне повышения разреженности матриц $\\Phi$ и $\\Theta$, я стал использовать эти коэффиценты без изменения в дальнейших экспериментах.\n",
    "\n",
    "Каждая коллекция документов уникальна, значит, количество тем в каждой модели будет различно.\n",
    "\n",
    "Тем не менее, модель ARTM [2] дает возможность определить оптимальное количество тем для каждой коллекции документов. Будем считать, что количесво тем T оптимально, если после того как была построена модель $\\forall t \\in T\\ \\varphi_t \\neq 0$ ,но если построить модель для T' = T+1, то $\\exists t \\in T': \\varphi_t = 0$\n",
    "\n",
    "$\\textbf{Как проводилась кластеризация? :}$\n",
    "\n",
    "Идеальных или лучших алгоритмов кластеризации не существует. Согласно [1], при большом количесве объектов следует выбирать быстрые иерархические процедуры для редуктивных мер отдаленности. Поэтому в качестве алгоритма кластеризации был выбран иерархический алгоритм по методу Уорда. Так же в [1] говорилось, что выбранный нами алгоритм показался автору наилучшим по восстанавливаемости разбиения.\n",
    "\n",
    "$\\textbf{Как решить задачу неизвестного количества кластеров? :}$\n",
    "\n",
    "После получения дендрограммы, следует решить, как провести черту, чтобы получить наиболее правдоподобное кол-во кластеров.\n",
    "В этой работе предложен следующий подход к решению этой проблемы.\n",
    "\n",
    "В каждом узле дендрограммы происходит разделения множества объектов на 2 подмножества. Чтобы решить, нужен ли этот шаг или нет, предлагается провести тест на однородность данных для каждого узла.\n",
    "\n",
    "Согласно [3], алгоритм проверки однородности многомерных данных следующий:\n",
    "1. Рассмотрим узел $k$\n",
    "2. Пусть все левые листья узла $k$ это множество $X = \\{x_1,x_2,...,x_n\\}$\n",
    "3. Пусть все правые листья узла $k$ это множество $Y = \\{y_1,y_2,...,y_m\\}$\n",
    "4. Пусть $S_1 = \\frac{1}{n^2}\\sum\\limits_{i,j = 1}^{n}|x_i - x_j|$\n",
    "5. Пусть $S_2 = \\frac{1}{m^2}\\sum\\limits_{i,j = 1}^{n}|y_i - y_j|$\n",
    "6. Пусть $S_2 = \\frac{1}{mn}\\sum\\limits_{i = 1}^{n}\\sum\\limits_{j = 1}^{m}|x_i - y_j|$\n",
    "7. Если $Q = 1 - \\frac{S_1 + S_2}{2S3} = 0$, то тест пройден. В противном случае нет.\n",
    "\n",
    "Каждое прошедшее тест дерево мы будем окрашивать в один цвет. Тогда по дереву будет просто провести границу так, чтобы разделить кластеры наиболее разумно.\n",
    "\n",
    "$\\textbf{Резюме :}$\n",
    "\n",
    "После выполнения пунктов, описанных выше, исследователь получает на руки матрицу люди/признаки/кластеры.\n",
    "Оперируя с этой матрицей, можно найти ответы на интерессующие вопросы о своем окружении в соц. сети.\n"
   ]
  },
  {
   "cell_type": "markdown",
   "metadata": {},
   "source": [
    "## Тестовый запуск\n",
    "\n",
    "В этой части работы мы покажем работу алгоритма на специально созданном аккаунте в соц. сети VK\n",
    "\n",
    "В друзья этого аккаунта добавлены 9 людей, а именно:\n",
    "\n",
    "$\\textbf{Политики:}$\n",
    "\n",
    "Юнус-Бек Евкуров - глава Ингушетии\n",
    "\n",
    "Сергей Миронов - руководитель фракции партии «Справедливая Россия»\n",
    "\n",
    "Дмитрий Медведев - председатель Правительства Российской Федерации\n",
    "\n",
    "Рамзан Кадыров - глава Чеченской републики\n",
    "\n",
    "$\\textbf{Преподаватели МФТИ:}$\n",
    "\n",
    "Пенкин Михаил - преподаватель физики на первом курсе\n",
    "\n",
    "Имран Алкескеров - преподаватель физики на втором курсе\n",
    "\n",
    "$\\textbf{Рэп-исполнители:}$\n",
    "\n",
    "Стас Конченков\n",
    "\n",
    "Big Russian Boss\n",
    "\n",
    "$\\textbf{Борцы:}$\n",
    "\n",
    "Бувайсар Сайтиев - многократный олимпийский чемпион в вольной борьбе"
   ]
  },
  {
   "cell_type": "markdown",
   "metadata": {},
   "source": [
    "### Добавим библиотеку,в которой прописаны все функции для выполнения задачи"
   ]
  },
  {
   "cell_type": "code",
   "execution_count": 49,
   "metadata": {
    "collapsed": false
   },
   "outputs": [],
   "source": [
    "import my_vk\n",
    "%matplotlib inline"
   ]
  },
  {
   "cell_type": "markdown",
   "metadata": {},
   "source": [
    "### Вводим id тестового аккаунта"
   ]
  },
  {
   "cell_type": "code",
   "execution_count": 2,
   "metadata": {
    "collapsed": false
   },
   "outputs": [],
   "source": [
    "id = 360960126"
   ]
  },
  {
   "cell_type": "markdown",
   "metadata": {},
   "source": [
    "### Получаем информацию из социальной сети"
   ]
  },
  {
   "cell_type": "code",
   "execution_count": 3,
   "metadata": {
    "collapsed": false
   },
   "outputs": [
    {
     "name": "stdout",
     "output_type": "stream",
     "text": [
      "Connecting to the server\n",
      "Getting subscriptions ids\n",
      "Getting text from friends walls\n",
      "(\"Number of 'bad wall' users -\", 0)\n",
      "Starting text preprocessing\n",
      "Sucess!\n"
     ]
    }
   ],
   "source": [
    "#Перед запуском этой функции создайте файл my_stop_words.txt в папке с библиотекой для записи ваших стоп-слов\n",
    "#Sub - получаем информацию о подписках пользователя\n",
    "#Friends - получаем информацию о друзьях пользователя\n",
    "pairs,vectors,vocab,D,bad_users = my_vk.get_docs(id,'Sub')\n",
    "#Алгоритм возвращает: пары [id,текст], вектора частот для каждого документа, словарь, количесво документов, количество пользователей\n",
    "#стены, которых не получилось обработать из-за ограничений сайта ВК."
   ]
  },
  {
   "cell_type": "markdown",
   "metadata": {},
   "source": [
    "### Создаем файлы типа bag-of-words и словарь для полученной информации"
   ]
  },
  {
   "cell_type": "code",
   "execution_count": 4,
   "metadata": {
    "collapsed": true
   },
   "outputs": [],
   "source": [
    "my_vk.create_doc(vectors,vocab,D)\n",
    "my_vk.create_voc(vocab)"
   ]
  },
  {
   "cell_type": "markdown",
   "metadata": {},
   "source": [
    "### В этом пункте запускаем функцию, которая построит тематическую модель ARTM для оптимального количества тем"
   ]
  },
  {
   "cell_type": "code",
   "execution_count": 5,
   "metadata": {
    "collapsed": false
   },
   "outputs": [],
   "source": [
    "# В качестве параметра T указывается количество тем, начиная с которого алгоритм будет искать оптимальное их количество.\n",
    "# Если поставить параметр слишком большим, то алгоритм выберет именно его в качестве оптимального количества тем.\n",
    "# Если же вы не уверены в количестве тем, то можно положить T = 1, но тогда готовьтесть к продолжительному времени работы.\n",
    "# Практика показывает, что иногда стоит брать чуть меньше оптимально количества тем, для этого есть парамметр P, который показывает,\n",
    "# какой процент от оптимального количесва тем будет взят.\n",
    "n, model = my_vk.create_model(T = 10,P = 0.8)\n",
    "#Алгоритм возвращает: оптимальное количесво тем, тематическую модель."
   ]
  },
  {
   "cell_type": "markdown",
   "metadata": {},
   "source": [
    "### Проилюстрируем то, что матрицы сошлись"
   ]
  },
  {
   "cell_type": "code",
   "execution_count": 6,
   "metadata": {
    "collapsed": false
   },
   "outputs": [
    {
     "data": {
      "text/plain": [
       "[<matplotlib.lines.Line2D at 0x112408dd0>]"
      ]
     },
     "execution_count": 6,
     "metadata": {},
     "output_type": "execute_result"
    },
    {
     "data": {
      "image/png": "[encoded data removed]",
      "text/plain": [
       "<matplotlib.figure.Figure at 0x111cb3e10>"
      ]
     },
     "metadata": {},
     "output_type": "display_data"
    }
   ],
   "source": [
    "import matplotlib.pyplot as plt\n",
    "%matplotlib inline\n",
    "plt.xlabel('Iterations')\n",
    "plt.ylabel('Perplexity')\n",
    "plt.plot(range(model.num_phi_updates), model.score_tracker['PerplexityScore'].value)"
   ]
  },
  {
   "cell_type": "markdown",
   "metadata": {},
   "source": [
    "### Посмотрим на полученную матрицу - пользователи/признаки "
   ]
  },
  {
   "cell_type": "code",
   "execution_count": 7,
   "metadata": {
    "collapsed": false
   },
   "outputs": [
    {
     "data": {
      "text/html": [
       "<div>\n",
       "<table border=\"1\" class=\"dataframe\">\n",
       "  <thead>\n",
       "    <tr style=\"text-align: right;\">\n",
       "      <th></th>\n",
       "      <th>@topic_0</th>\n",
       "      <th>@topic_1</th>\n",
       "      <th>@topic_2</th>\n",
       "      <th>@topic_3</th>\n",
       "      <th>@topic_4</th>\n",
       "      <th>@topic_5</th>\n",
       "      <th>@topic_6</th>\n",
       "      <th>@topic_7</th>\n",
       "      <th>@topic_8</th>\n",
       "      <th>@topic_9</th>\n",
       "      <th>@topic_10</th>\n",
       "      <th>@topic_11</th>\n",
       "    </tr>\n",
       "  </thead>\n",
       "  <tbody>\n",
       "    <tr>\n",
       "      <th>0</th>\n",
       "      <td>0.030411</td>\n",
       "      <td>0.000000</td>\n",
       "      <td>0.000000</td>\n",
       "      <td>0.173524</td>\n",
       "      <td>0.00000</td>\n",
       "      <td>0.000000</td>\n",
       "      <td>0.101968</td>\n",
       "      <td>0.000000</td>\n",
       "      <td>0.245081</td>\n",
       "      <td>0.066190</td>\n",
       "      <td>0.316637</td>\n",
       "      <td>0.066190</td>\n",
       "    </tr>\n",
       "    <tr>\n",
       "      <th>1</th>\n",
       "      <td>0.000000</td>\n",
       "      <td>0.052795</td>\n",
       "      <td>0.000000</td>\n",
       "      <td>0.052795</td>\n",
       "      <td>0.00000</td>\n",
       "      <td>0.363354</td>\n",
       "      <td>0.000000</td>\n",
       "      <td>0.052795</td>\n",
       "      <td>0.425466</td>\n",
       "      <td>0.000000</td>\n",
       "      <td>0.052795</td>\n",
       "      <td>0.000000</td>\n",
       "    </tr>\n",
       "    <tr>\n",
       "      <th>2</th>\n",
       "      <td>0.000000</td>\n",
       "      <td>0.000000</td>\n",
       "      <td>0.000000</td>\n",
       "      <td>0.444805</td>\n",
       "      <td>0.00000</td>\n",
       "      <td>0.000000</td>\n",
       "      <td>0.000000</td>\n",
       "      <td>0.120130</td>\n",
       "      <td>0.000000</td>\n",
       "      <td>0.000000</td>\n",
       "      <td>0.250000</td>\n",
       "      <td>0.185065</td>\n",
       "    </tr>\n",
       "    <tr>\n",
       "      <th>3</th>\n",
       "      <td>0.000000</td>\n",
       "      <td>0.000000</td>\n",
       "      <td>0.000000</td>\n",
       "      <td>0.212687</td>\n",
       "      <td>0.00000</td>\n",
       "      <td>0.000000</td>\n",
       "      <td>0.000000</td>\n",
       "      <td>0.000000</td>\n",
       "      <td>0.000000</td>\n",
       "      <td>0.287313</td>\n",
       "      <td>0.436567</td>\n",
       "      <td>0.063433</td>\n",
       "    </tr>\n",
       "    <tr>\n",
       "      <th>4</th>\n",
       "      <td>0.046658</td>\n",
       "      <td>0.000000</td>\n",
       "      <td>0.021438</td>\n",
       "      <td>0.021438</td>\n",
       "      <td>0.00000</td>\n",
       "      <td>0.021438</td>\n",
       "      <td>0.097100</td>\n",
       "      <td>0.071879</td>\n",
       "      <td>0.000000</td>\n",
       "      <td>0.021438</td>\n",
       "      <td>0.651955</td>\n",
       "      <td>0.046658</td>\n",
       "    </tr>\n",
       "    <tr>\n",
       "      <th>5</th>\n",
       "      <td>0.895921</td>\n",
       "      <td>0.000000</td>\n",
       "      <td>0.000000</td>\n",
       "      <td>0.000000</td>\n",
       "      <td>0.02391</td>\n",
       "      <td>0.080169</td>\n",
       "      <td>0.000000</td>\n",
       "      <td>0.000000</td>\n",
       "      <td>0.000000</td>\n",
       "      <td>0.000000</td>\n",
       "      <td>0.000000</td>\n",
       "      <td>0.000000</td>\n",
       "    </tr>\n",
       "    <tr>\n",
       "      <th>6</th>\n",
       "      <td>0.811224</td>\n",
       "      <td>0.000000</td>\n",
       "      <td>0.000000</td>\n",
       "      <td>0.028912</td>\n",
       "      <td>0.00000</td>\n",
       "      <td>0.130952</td>\n",
       "      <td>0.000000</td>\n",
       "      <td>0.028912</td>\n",
       "      <td>0.000000</td>\n",
       "      <td>0.000000</td>\n",
       "      <td>0.000000</td>\n",
       "      <td>0.000000</td>\n",
       "    </tr>\n",
       "    <tr>\n",
       "      <th>7</th>\n",
       "      <td>0.000000</td>\n",
       "      <td>0.000000</td>\n",
       "      <td>0.000000</td>\n",
       "      <td>0.000000</td>\n",
       "      <td>0.00000</td>\n",
       "      <td>1.000000</td>\n",
       "      <td>0.000000</td>\n",
       "      <td>0.000000</td>\n",
       "      <td>0.000000</td>\n",
       "      <td>0.000000</td>\n",
       "      <td>0.000000</td>\n",
       "      <td>0.000000</td>\n",
       "    </tr>\n",
       "    <tr>\n",
       "      <th>8</th>\n",
       "      <td>0.000000</td>\n",
       "      <td>0.000000</td>\n",
       "      <td>0.039443</td>\n",
       "      <td>0.000000</td>\n",
       "      <td>0.00000</td>\n",
       "      <td>0.921114</td>\n",
       "      <td>0.000000</td>\n",
       "      <td>0.039443</td>\n",
       "      <td>0.000000</td>\n",
       "      <td>0.000000</td>\n",
       "      <td>0.000000</td>\n",
       "      <td>0.000000</td>\n",
       "    </tr>\n",
       "  </tbody>\n",
       "</table>\n",
       "</div>"
      ],
      "text/plain": [
       "   @topic_0  @topic_1  @topic_2  @topic_3  @topic_4  @topic_5  @topic_6  \\\n",
       "0  0.030411  0.000000  0.000000  0.173524   0.00000  0.000000  0.101968   \n",
       "1  0.000000  0.052795  0.000000  0.052795   0.00000  0.363354  0.000000   \n",
       "2  0.000000  0.000000  0.000000  0.444805   0.00000  0.000000  0.000000   \n",
       "3  0.000000  0.000000  0.000000  0.212687   0.00000  0.000000  0.000000   \n",
       "4  0.046658  0.000000  0.021438  0.021438   0.00000  0.021438  0.097100   \n",
       "5  0.895921  0.000000  0.000000  0.000000   0.02391  0.080169  0.000000   \n",
       "6  0.811224  0.000000  0.000000  0.028912   0.00000  0.130952  0.000000   \n",
       "7  0.000000  0.000000  0.000000  0.000000   0.00000  1.000000  0.000000   \n",
       "8  0.000000  0.000000  0.039443  0.000000   0.00000  0.921114  0.000000   \n",
       "\n",
       "   @topic_7  @topic_8  @topic_9  @topic_10  @topic_11  \n",
       "0  0.000000  0.245081  0.066190   0.316637   0.066190  \n",
       "1  0.052795  0.425466  0.000000   0.052795   0.000000  \n",
       "2  0.120130  0.000000  0.000000   0.250000   0.185065  \n",
       "3  0.000000  0.000000  0.287313   0.436567   0.063433  \n",
       "4  0.071879  0.000000  0.021438   0.651955   0.046658  \n",
       "5  0.000000  0.000000  0.000000   0.000000   0.000000  \n",
       "6  0.028912  0.000000  0.000000   0.000000   0.000000  \n",
       "7  0.000000  0.000000  0.000000   0.000000   0.000000  \n",
       "8  0.039443  0.000000  0.000000   0.000000   0.000000  "
      ]
     },
     "execution_count": 7,
     "metadata": {},
     "output_type": "execute_result"
    }
   ],
   "source": [
    "theta_matrix = model.fit_transform()\n",
    "M = theta_matrix.T\n",
    "M"
   ]
  },
  {
   "cell_type": "markdown",
   "metadata": {},
   "source": [
    "### Запускаем иерархический алгоритм кластеризации по методу Уорда"
   ]
  },
  {
   "cell_type": "code",
   "execution_count": 8,
   "metadata": {
    "collapsed": false
   },
   "outputs": [
    {
     "data": {
      "image/png": "[encoded data removed]",
      "text/plain": [
       "<matplotlib.figure.Figure at 0x112fd5090>"
      ]
     },
     "metadata": {},
     "output_type": "display_data"
    }
   ],
   "source": [
    "from scipy.cluster.hierarchy import linkage, dendrogram\n",
    "z = linkage(M, method= 'ward')\n",
    "def color1(k):\n",
    "    return 'b'\n",
    "p = dendrogram(z,get_leaves=1,link_color_func=color1,no_labels = 0,show_leaf_counts = 1)"
   ]
  },
  {
   "cell_type": "markdown",
   "metadata": {},
   "source": [
    "### Вводим границу, которая разделит кластеры"
   ]
  },
  {
   "cell_type": "markdown",
   "metadata": {},
   "source": [
    "Это важный шаг, выполнение которого вызывает проблемы при незнании количества кластеров, но при тестовом запуске количество кластеров известно, поэтому шаг выполняется тривиально"
   ]
  },
  {
   "cell_type": "code",
   "execution_count": 9,
   "metadata": {
    "collapsed": true
   },
   "outputs": [],
   "source": [
    "delta = 0.6"
   ]
  },
  {
   "cell_type": "markdown",
   "metadata": {},
   "source": [
    "Получим кластеры для заданной границы"
   ]
  },
  {
   "cell_type": "code",
   "execution_count": 10,
   "metadata": {
    "collapsed": false
   },
   "outputs": [
    {
     "name": "stdout",
     "output_type": "stream",
     "text": [
      "('Amount of clusters in result ', 4)\n"
     ]
    }
   ],
   "source": [
    "from scipy.cluster.hierarchy import fcluster\n",
    "clusters = fcluster(z, delta, criterion='distance')\n",
    "print('Amount of clusters in result ',clusters.max())"
   ]
  },
  {
   "cell_type": "markdown",
   "metadata": {},
   "source": [
    "### Создадим готовую матрицу пользователи/признаки/кластеры/реальные кластеры"
   ]
  },
  {
   "cell_type": "markdown",
   "metadata": {},
   "source": [
    "Получим id всех подписок"
   ]
  },
  {
   "cell_type": "code",
   "execution_count": 11,
   "metadata": {
    "collapsed": false
   },
   "outputs": [],
   "source": [
    "import numpy as np\n",
    "list_ = np.array(pairs)\n",
    "ids = list_[:,0]"
   ]
  },
  {
   "cell_type": "markdown",
   "metadata": {},
   "source": [
    "Узнаем их имена"
   ]
  },
  {
   "cell_type": "code",
   "execution_count": 12,
   "metadata": {
    "collapsed": false
   },
   "outputs": [],
   "source": [
    "import vk\n",
    "session = vk.Session()\n",
    "api = vk.API(session)\n",
    "info = api.users.get(user_ids = ids)\n",
    "\n",
    "new_column = []\n",
    "for obj in info:\n",
    "    new_column.append(obj['first_name'] + ' ' + obj['last_name'])"
   ]
  },
  {
   "cell_type": "markdown",
   "metadata": {},
   "source": [
    "Добавим к изначальной матрице полученные столбцы. \n",
    "\n",
    "Добавим реальные кластеры пользователей и взглянем на результат"
   ]
  },
  {
   "cell_type": "code",
   "execution_count": 13,
   "metadata": {
    "collapsed": false
   },
   "outputs": [
    {
     "data": {
      "text/html": [
       "<div>\n",
       "<table border=\"1\" class=\"dataframe\">\n",
       "  <thead>\n",
       "    <tr style=\"text-align: right;\">\n",
       "      <th></th>\n",
       "      <th>@topic_0</th>\n",
       "      <th>@topic_1</th>\n",
       "      <th>@topic_2</th>\n",
       "      <th>@topic_3</th>\n",
       "      <th>@topic_4</th>\n",
       "      <th>@topic_5</th>\n",
       "      <th>@topic_6</th>\n",
       "      <th>@topic_7</th>\n",
       "      <th>@topic_8</th>\n",
       "      <th>@topic_9</th>\n",
       "      <th>@topic_10</th>\n",
       "      <th>@topic_11</th>\n",
       "      <th>cluster</th>\n",
       "      <th>names</th>\n",
       "      <th>real</th>\n",
       "    </tr>\n",
       "  </thead>\n",
       "  <tbody>\n",
       "    <tr>\n",
       "      <th>0</th>\n",
       "      <td>0.030411</td>\n",
       "      <td>0.000000</td>\n",
       "      <td>0.000000</td>\n",
       "      <td>0.173524</td>\n",
       "      <td>0.00000</td>\n",
       "      <td>0.000000</td>\n",
       "      <td>0.101968</td>\n",
       "      <td>0.000000</td>\n",
       "      <td>0.245081</td>\n",
       "      <td>0.066190</td>\n",
       "      <td>0.316637</td>\n",
       "      <td>0.066190</td>\n",
       "      <td>3</td>\n",
       "      <td>Юнус-Бек Евкуров</td>\n",
       "      <td>politic</td>\n",
       "    </tr>\n",
       "    <tr>\n",
       "      <th>1</th>\n",
       "      <td>0.000000</td>\n",
       "      <td>0.052795</td>\n",
       "      <td>0.000000</td>\n",
       "      <td>0.052795</td>\n",
       "      <td>0.00000</td>\n",
       "      <td>0.363354</td>\n",
       "      <td>0.000000</td>\n",
       "      <td>0.052795</td>\n",
       "      <td>0.425466</td>\n",
       "      <td>0.000000</td>\n",
       "      <td>0.052795</td>\n",
       "      <td>0.000000</td>\n",
       "      <td>4</td>\n",
       "      <td>Бувайсар Сайтиев</td>\n",
       "      <td>fighter</td>\n",
       "    </tr>\n",
       "    <tr>\n",
       "      <th>2</th>\n",
       "      <td>0.000000</td>\n",
       "      <td>0.000000</td>\n",
       "      <td>0.000000</td>\n",
       "      <td>0.444805</td>\n",
       "      <td>0.00000</td>\n",
       "      <td>0.000000</td>\n",
       "      <td>0.000000</td>\n",
       "      <td>0.120130</td>\n",
       "      <td>0.000000</td>\n",
       "      <td>0.000000</td>\n",
       "      <td>0.250000</td>\n",
       "      <td>0.185065</td>\n",
       "      <td>3</td>\n",
       "      <td>Сергей Миронов</td>\n",
       "      <td>politic</td>\n",
       "    </tr>\n",
       "    <tr>\n",
       "      <th>3</th>\n",
       "      <td>0.000000</td>\n",
       "      <td>0.000000</td>\n",
       "      <td>0.000000</td>\n",
       "      <td>0.212687</td>\n",
       "      <td>0.00000</td>\n",
       "      <td>0.000000</td>\n",
       "      <td>0.000000</td>\n",
       "      <td>0.000000</td>\n",
       "      <td>0.000000</td>\n",
       "      <td>0.287313</td>\n",
       "      <td>0.436567</td>\n",
       "      <td>0.063433</td>\n",
       "      <td>3</td>\n",
       "      <td>Дмитрий Медведев</td>\n",
       "      <td>politic</td>\n",
       "    </tr>\n",
       "    <tr>\n",
       "      <th>4</th>\n",
       "      <td>0.046658</td>\n",
       "      <td>0.000000</td>\n",
       "      <td>0.021438</td>\n",
       "      <td>0.021438</td>\n",
       "      <td>0.00000</td>\n",
       "      <td>0.021438</td>\n",
       "      <td>0.097100</td>\n",
       "      <td>0.071879</td>\n",
       "      <td>0.000000</td>\n",
       "      <td>0.021438</td>\n",
       "      <td>0.651955</td>\n",
       "      <td>0.046658</td>\n",
       "      <td>3</td>\n",
       "      <td>Рамзан Кадыров</td>\n",
       "      <td>politic</td>\n",
       "    </tr>\n",
       "    <tr>\n",
       "      <th>5</th>\n",
       "      <td>0.895921</td>\n",
       "      <td>0.000000</td>\n",
       "      <td>0.000000</td>\n",
       "      <td>0.000000</td>\n",
       "      <td>0.02391</td>\n",
       "      <td>0.080169</td>\n",
       "      <td>0.000000</td>\n",
       "      <td>0.000000</td>\n",
       "      <td>0.000000</td>\n",
       "      <td>0.000000</td>\n",
       "      <td>0.000000</td>\n",
       "      <td>0.000000</td>\n",
       "      <td>2</td>\n",
       "      <td>Стас Конченков</td>\n",
       "      <td>rap singer</td>\n",
       "    </tr>\n",
       "    <tr>\n",
       "      <th>6</th>\n",
       "      <td>0.811224</td>\n",
       "      <td>0.000000</td>\n",
       "      <td>0.000000</td>\n",
       "      <td>0.028912</td>\n",
       "      <td>0.00000</td>\n",
       "      <td>0.130952</td>\n",
       "      <td>0.000000</td>\n",
       "      <td>0.028912</td>\n",
       "      <td>0.000000</td>\n",
       "      <td>0.000000</td>\n",
       "      <td>0.000000</td>\n",
       "      <td>0.000000</td>\n",
       "      <td>2</td>\n",
       "      <td>Big Russian Boss</td>\n",
       "      <td>rap singer</td>\n",
       "    </tr>\n",
       "    <tr>\n",
       "      <th>7</th>\n",
       "      <td>0.000000</td>\n",
       "      <td>0.000000</td>\n",
       "      <td>0.000000</td>\n",
       "      <td>0.000000</td>\n",
       "      <td>0.00000</td>\n",
       "      <td>1.000000</td>\n",
       "      <td>0.000000</td>\n",
       "      <td>0.000000</td>\n",
       "      <td>0.000000</td>\n",
       "      <td>0.000000</td>\n",
       "      <td>0.000000</td>\n",
       "      <td>0.000000</td>\n",
       "      <td>1</td>\n",
       "      <td>Михаил Пенкин</td>\n",
       "      <td>foxford</td>\n",
       "    </tr>\n",
       "    <tr>\n",
       "      <th>8</th>\n",
       "      <td>0.000000</td>\n",
       "      <td>0.000000</td>\n",
       "      <td>0.039443</td>\n",
       "      <td>0.000000</td>\n",
       "      <td>0.00000</td>\n",
       "      <td>0.921114</td>\n",
       "      <td>0.000000</td>\n",
       "      <td>0.039443</td>\n",
       "      <td>0.000000</td>\n",
       "      <td>0.000000</td>\n",
       "      <td>0.000000</td>\n",
       "      <td>0.000000</td>\n",
       "      <td>1</td>\n",
       "      <td>Имран Алескеров</td>\n",
       "      <td>foxford</td>\n",
       "    </tr>\n",
       "  </tbody>\n",
       "</table>\n",
       "</div>"
      ],
      "text/plain": [
       "   @topic_0  @topic_1  @topic_2  @topic_3  @topic_4  @topic_5  @topic_6  \\\n",
       "0  0.030411  0.000000  0.000000  0.173524   0.00000  0.000000  0.101968   \n",
       "1  0.000000  0.052795  0.000000  0.052795   0.00000  0.363354  0.000000   \n",
       "2  0.000000  0.000000  0.000000  0.444805   0.00000  0.000000  0.000000   \n",
       "3  0.000000  0.000000  0.000000  0.212687   0.00000  0.000000  0.000000   \n",
       "4  0.046658  0.000000  0.021438  0.021438   0.00000  0.021438  0.097100   \n",
       "5  0.895921  0.000000  0.000000  0.000000   0.02391  0.080169  0.000000   \n",
       "6  0.811224  0.000000  0.000000  0.028912   0.00000  0.130952  0.000000   \n",
       "7  0.000000  0.000000  0.000000  0.000000   0.00000  1.000000  0.000000   \n",
       "8  0.000000  0.000000  0.039443  0.000000   0.00000  0.921114  0.000000   \n",
       "\n",
       "   @topic_7  @topic_8  @topic_9  @topic_10  @topic_11  cluster  \\\n",
       "0  0.000000  0.245081  0.066190   0.316637   0.066190        3   \n",
       "1  0.052795  0.425466  0.000000   0.052795   0.000000        4   \n",
       "2  0.120130  0.000000  0.000000   0.250000   0.185065        3   \n",
       "3  0.000000  0.000000  0.287313   0.436567   0.063433        3   \n",
       "4  0.071879  0.000000  0.021438   0.651955   0.046658        3   \n",
       "5  0.000000  0.000000  0.000000   0.000000   0.000000        2   \n",
       "6  0.028912  0.000000  0.000000   0.000000   0.000000        2   \n",
       "7  0.000000  0.000000  0.000000   0.000000   0.000000        1   \n",
       "8  0.039443  0.000000  0.000000   0.000000   0.000000        1   \n",
       "\n",
       "              names        real  \n",
       "0  Юнус-Бек Евкуров     politic  \n",
       "1  Бувайсар Сайтиев     fighter  \n",
       "2    Сергей Миронов     politic  \n",
       "3  Дмитрий Медведев     politic  \n",
       "4    Рамзан Кадыров     politic  \n",
       "5    Стас Конченков  rap singer  \n",
       "6  Big Russian Boss  rap singer  \n",
       "7     Михаил Пенкин     foxford  \n",
       "8   Имран Алескеров     foxford  "
      ]
     },
     "execution_count": 13,
     "metadata": {},
     "output_type": "execute_result"
    }
   ],
   "source": [
    "M['cluster'] = clusters\n",
    "M['names'] = new_column\n",
    "M['real'] = ['politic',\\\n",
    "             'fighter',\\\n",
    "             'politic',\\\n",
    "             'politic',\\\n",
    "             'politic',\\\n",
    "             'rap singer',\\\n",
    "             'rap singer',\\\n",
    "             'foxford',\\\n",
    "             'foxford',\\\n",
    "            ]\n",
    "M"
   ]
  },
  {
   "cell_type": "markdown",
   "metadata": {},
   "source": [
    "### Посмотрим на результаты работы алгоритма"
   ]
  },
  {
   "cell_type": "markdown",
   "metadata": {},
   "source": [
    "Построим матрицу кластеры/реальные кластеры, если ее можно привести к виду, где на диагонали стоят наибольшие числа в столбце, то из этого можно сделать вывод, что алгоритм распределил людей по роду их деятельности"
   ]
  },
  {
   "cell_type": "code",
   "execution_count": 14,
   "metadata": {
    "collapsed": false
   },
   "outputs": [],
   "source": [
    "import pandas as pd\n",
    "p = pd.DataFrame()\n",
    "list_1 = [1,2,3,4]\n",
    "list_2 = ['foxford','rap singer','politic','fighter']"
   ]
  },
  {
   "cell_type": "code",
   "execution_count": 15,
   "metadata": {
    "collapsed": false
   },
   "outputs": [],
   "source": [
    "for i in list_2:\n",
    "    l = []\n",
    "    for j in list_1:\n",
    "        l.append(((M['cluster'] == j)&(M['real'] == i)).sum())\n",
    "    p[i] = l"
   ]
  },
  {
   "cell_type": "code",
   "execution_count": 16,
   "metadata": {
    "collapsed": false
   },
   "outputs": [
    {
     "data": {
      "text/html": [
       "<div>\n",
       "<table border=\"1\" class=\"dataframe\">\n",
       "  <thead>\n",
       "    <tr style=\"text-align: right;\">\n",
       "      <th></th>\n",
       "      <th>foxford</th>\n",
       "      <th>rap singer</th>\n",
       "      <th>politic</th>\n",
       "      <th>fighter</th>\n",
       "    </tr>\n",
       "  </thead>\n",
       "  <tbody>\n",
       "    <tr>\n",
       "      <th>0</th>\n",
       "      <td>2</td>\n",
       "      <td>0</td>\n",
       "      <td>0</td>\n",
       "      <td>0</td>\n",
       "    </tr>\n",
       "    <tr>\n",
       "      <th>1</th>\n",
       "      <td>0</td>\n",
       "      <td>2</td>\n",
       "      <td>0</td>\n",
       "      <td>0</td>\n",
       "    </tr>\n",
       "    <tr>\n",
       "      <th>2</th>\n",
       "      <td>0</td>\n",
       "      <td>0</td>\n",
       "      <td>4</td>\n",
       "      <td>0</td>\n",
       "    </tr>\n",
       "    <tr>\n",
       "      <th>3</th>\n",
       "      <td>0</td>\n",
       "      <td>0</td>\n",
       "      <td>0</td>\n",
       "      <td>1</td>\n",
       "    </tr>\n",
       "  </tbody>\n",
       "</table>\n",
       "</div>"
      ],
      "text/plain": [
       "   foxford  rap singer  politic  fighter\n",
       "0        2           0        0        0\n",
       "1        0           2        0        0\n",
       "2        0           0        4        0\n",
       "3        0           0        0        1"
      ]
     },
     "execution_count": 16,
     "metadata": {},
     "output_type": "execute_result"
    }
   ],
   "source": [
    "p"
   ]
  },
  {
   "cell_type": "markdown",
   "metadata": {},
   "source": [
    "Как мы видим из матрицы выше, на этом примере алгоритм сработал хорошо, так как матрица получилась диагональной."
   ]
  },
  {
   "cell_type": "markdown",
   "metadata": {},
   "source": [
    "Можно заметить, что некоторые темы особенно характерны для некоторых кластеров.\n",
    "\n",
    "К примеру для рэп-исполнителей особенно характерна тема под номером 0, а для преподавателей - тема под номером 5\n",
    "\n",
    "Давайте взглянем на них"
   ]
  },
  {
   "cell_type": "markdown",
   "metadata": {},
   "source": [
    "$\\textbf{Рэп-исполнители}$"
   ]
  },
  {
   "cell_type": "code",
   "execution_count": 17,
   "metadata": {
    "collapsed": false
   },
   "outputs": [
    {
     "name": "stdout",
     "output_type": "stream",
     "text": [
      "god\n",
      "релиз\n",
      "rap\n",
      "сингл\n",
      "album\n",
      "hard\n"
     ]
    }
   ],
   "source": [
    "my_vk.print_list(model.score_tracker['TopTokensScore'].last_topic_info['@topic_0'].tokens)"
   ]
  },
  {
   "cell_type": "markdown",
   "metadata": {},
   "source": [
    "$\\textbf{Учителя}$"
   ]
  },
  {
   "cell_type": "code",
   "execution_count": 18,
   "metadata": {
    "collapsed": false
   },
   "outputs": [
    {
     "name": "stdout",
     "output_type": "stream",
     "text": [
      "портал\n",
      "выйдет\n",
      "мастеркласс\n",
      "телефон\n",
      "black\n",
      "живт\n"
     ]
    }
   ],
   "source": [
    "my_vk.print_list(model.score_tracker['TopTokensScore'].last_topic_info['@topic_5'].tokens)"
   ]
  },
  {
   "cell_type": "markdown",
   "metadata": {},
   "source": [
    "Видно, что темы интерпретируемы"
   ]
  },
  {
   "cell_type": "markdown",
   "metadata": {},
   "source": [
    "## Запуск на реальном пользователе сети"
   ]
  },
  {
   "cell_type": "markdown",
   "metadata": {},
   "source": [
    "В этой части работы давайте попробуем проанализировать аккаунт реального пользователя сети.\n",
    "\n",
    "В качестве аккаунта мы возьмем аккаунт моей одногрупницы (Ксении Шевчук) , которая любезно разрешила мне воспользоваться им."
   ]
  },
  {
   "cell_type": "markdown",
   "metadata": {},
   "source": [
    "(Дальнейшую запись кода я комментировать не буду, так как все подробности были объяснены ранее)"
   ]
  },
  {
   "cell_type": "markdown",
   "metadata": {},
   "source": [
    "$\\textbf{Получим информацию о друзьях}$"
   ]
  },
  {
   "cell_type": "code",
   "execution_count": 60,
   "metadata": {
    "collapsed": false
   },
   "outputs": [
    {
     "name": "stdout",
     "output_type": "stream",
     "text": [
      "Connecting to the server\n",
      "Getting friends ids\n",
      "Getting text from friends walls\n",
      "(\"Number of 'bad wall' users -\", 201)\n",
      "Starting text preprocessing\n",
      "Sucess!\n"
     ]
    }
   ],
   "source": [
    "id = 37201652\n",
    "pairs,vectors,vocab,D,bad_users = my_vk.get_docs(id,'Friends')\n",
    "my_vk.create_doc(vectors,vocab,D)\n",
    "my_vk.create_voc(vocab)"
   ]
  },
  {
   "cell_type": "markdown",
   "metadata": {},
   "source": [
    "$\\textbf{Построим тематическую модель}$"
   ]
  },
  {
   "cell_type": "code",
   "execution_count": 61,
   "metadata": {
    "collapsed": true
   },
   "outputs": [],
   "source": [
    "n, model = my_vk.create_model(T = 1,P = 0.9)"
   ]
  },
  {
   "cell_type": "markdown",
   "metadata": {},
   "source": [
    "$\\textbf{Посмотрим на интерпритируемость некоторых полученных тем}$"
   ]
  },
  {
   "cell_type": "code",
   "execution_count": 65,
   "metadata": {
    "collapsed": false
   },
   "outputs": [
    {
     "name": "stdout",
     "output_type": "stream",
     "text": [
      "@topic_4:  фильм\n",
      "концерт\n",
      "билет\n",
      "студент\n",
      "клуб\n",
      "конкурс\n",
      "\n",
      "\n",
      "@topic_5:  физтех\n",
      "мфти\n",
      "олимпиад\n",
      "дан\n",
      "курс\n",
      "задач\n",
      "\n",
      "\n",
      "@topic_6:  минут\n",
      "тест\n",
      "сахар\n",
      "ст\n",
      "готов\n",
      "сыр\n",
      "\n",
      "\n",
      "@topic_8:  школ\n",
      "профессор\n",
      "игра\n",
      "студент\n",
      "красив\n",
      "книг\n",
      "\n",
      "\n",
      "@topic_12:  слов\n",
      "жим\n",
      "мышц\n",
      "кг\n",
      "подход\n",
      "ног\n",
      "\n",
      "\n"
     ]
    }
   ],
   "source": [
    "for topic_name in ['@topic_4','@topic_5','@topic_6','@topic_8','@topic_12']:\n",
    "    print topic_name + ': ',\n",
    "    my_vk.print_list(model.score_tracker['TopTokensScore'].last_topic_info[topic_name].tokens)\n",
    "    print '\\n'"
   ]
  },
  {
   "cell_type": "markdown",
   "metadata": {},
   "source": [
    "Из пункта выше видно что, \n",
    "\n",
    "тема 4  посвящена походам в кино, театр\n",
    "\n",
    "тема 5  посвящена нашему дорогому вузу\n",
    "\n",
    "тема 6  посвящена рецептам \n",
    "\n",
    "тема 8  посвящена школе и событиям, там проходившим\n",
    "\n",
    "тема 12 посвящена спортсменам в тренажерном зале"
   ]
  },
  {
   "cell_type": "markdown",
   "metadata": {},
   "source": [
    "$\\textbf{Займемся кластеризацией}$"
   ]
  },
  {
   "cell_type": "markdown",
   "metadata": {},
   "source": [
    "На этом шаге мы запустим построение линковки нашей выборки по методу Уорда и тут же запустим функцию, которая проведет тест однородности в каждом узле дендрограммы.  "
   ]
  },
  {
   "cell_type": "code",
   "execution_count": 66,
   "metadata": {
    "collapsed": true
   },
   "outputs": [],
   "source": [
    "theta_matrix = model.fit_transform()\n",
    "M = theta_matrix.T\n",
    "from scipy.cluster.hierarchy import linkage, dendrogram\n",
    "z = linkage(M, method= 'ward')\n",
    "res = my_vk.create_colors(z,M,0.2)"
   ]
  },
  {
   "cell_type": "markdown",
   "metadata": {},
   "source": [
    "Теперь построим саму дендрограмму с новой 'умной' окраской"
   ]
  },
  {
   "cell_type": "code",
   "execution_count": 70,
   "metadata": {
    "collapsed": false
   },
   "outputs": [
    {
     "data": {
      "image/png": "[encoded data removed]",
      "text/plain": [
       "<matplotlib.figure.Figure at 0x1265dc1d0>"
      ]
     },
     "metadata": {},
     "output_type": "display_data"
    }
   ],
   "source": [
    "def color(k):\n",
    "    for obj in res:\n",
    "        if k in obj[0]:\n",
    "            return obj[1]\n",
    "    return 'b'\n",
    "p = dendrogram(z, link_color_func=color,get_leaves=1,no_labels = 1,show_leaf_counts = 1)"
   ]
  },
  {
   "cell_type": "markdown",
   "metadata": {},
   "source": [
    "Видно, что более половины друзей похожи. Давайте проведем границу так, чтобы минимально разделить одноцветный сегмент, но тем не менее отсечь как можно больше больших скачков расстояний."
   ]
  },
  {
   "cell_type": "code",
   "execution_count": 89,
   "metadata": {
    "collapsed": false
   },
   "outputs": [
    {
     "name": "stdout",
     "output_type": "stream",
     "text": [
      "('Amount of clusters in result ', 16)\n"
     ]
    }
   ],
   "source": [
    "delta = 1.5\n",
    "clusters = fcluster(z, delta, criterion='distance')\n",
    "print('Amount of clusters in result ',clusters.max())"
   ]
  },
  {
   "cell_type": "markdown",
   "metadata": {},
   "source": [
    "Всего кластеров вышло 16 штук.\n",
    "Теперь получим матрицу люди/признаки/кластеры"
   ]
  },
  {
   "cell_type": "code",
   "execution_count": 77,
   "metadata": {
    "collapsed": false
   },
   "outputs": [],
   "source": [
    "list_ = np.array(pairs)\n",
    "ids = list_[:,0]\n",
    "info = api.users.get(user_ids = ids)\n",
    "new_column = []\n",
    "for obj in info:\n",
    "    new_column.append(obj['first_name'] + ' ' + obj['last_name'])\n",
    "M['cluster'] = clusters\n",
    "M['names'] = new_column"
   ]
  },
  {
   "cell_type": "markdown",
   "metadata": {},
   "source": [
    "Анализируя полученную матрицу, можно отвечать на различные вопросы о окружении в соц сети.\n",
    "\n",
    "К примеру, можно вычислить группу людей, которые больше всех интересуются нашим вузом."
   ]
  },
  {
   "cell_type": "code",
   "execution_count": 100,
   "metadata": {
    "collapsed": false
   },
   "outputs": [
    {
     "data": {
      "text/plain": [
       "5"
      ]
     },
     "execution_count": 100,
     "metadata": {},
     "output_type": "execute_result"
    }
   ],
   "source": [
    "list_ = []\n",
    "for i in range(16):\n",
    "    i += 1\n",
    "    K = M[M['cluster'] == i]\n",
    "    list_.append(K['@topic_5'].mean())\n",
    "\n",
    "list_.index(np.array(list_).max()) + 1"
   ]
  },
  {
   "cell_type": "markdown",
   "metadata": {},
   "source": [
    "Вышло, что этой группе соотвествует кластер под номером 5 \n",
    "\n",
    "Давайте получим 4 самых ярких представителей этой группы и посмотрим, кем они являются на самом деле."
   ]
  },
  {
   "cell_type": "code",
   "execution_count": 109,
   "metadata": {
    "collapsed": false
   },
   "outputs": [
    {
     "data": {
      "text/html": [
       "<div>\n",
       "<table border=\"1\" class=\"dataframe\">\n",
       "  <thead>\n",
       "    <tr style=\"text-align: right;\">\n",
       "      <th></th>\n",
       "      <th>@topic_0</th>\n",
       "      <th>@topic_1</th>\n",
       "      <th>@topic_2</th>\n",
       "      <th>@topic_3</th>\n",
       "      <th>@topic_4</th>\n",
       "      <th>@topic_5</th>\n",
       "      <th>@topic_6</th>\n",
       "      <th>@topic_7</th>\n",
       "      <th>@topic_8</th>\n",
       "      <th>@topic_9</th>\n",
       "      <th>@topic_10</th>\n",
       "      <th>@topic_11</th>\n",
       "      <th>@topic_12</th>\n",
       "      <th>@topic_13</th>\n",
       "      <th>cluster</th>\n",
       "      <th>names</th>\n",
       "    </tr>\n",
       "  </thead>\n",
       "  <tbody>\n",
       "    <tr>\n",
       "      <th>2</th>\n",
       "      <td>0.000000</td>\n",
       "      <td>0.000000</td>\n",
       "      <td>0.008189</td>\n",
       "      <td>0.240349</td>\n",
       "      <td>0.000000</td>\n",
       "      <td>0.701855</td>\n",
       "      <td>0.000000</td>\n",
       "      <td>0.009187</td>\n",
       "      <td>0.000000</td>\n",
       "      <td>0.000000</td>\n",
       "      <td>0.000000</td>\n",
       "      <td>0.000000</td>\n",
       "      <td>0.000000</td>\n",
       "      <td>0.040420</td>\n",
       "      <td>5</td>\n",
       "      <td>Михаил Пенкин</td>\n",
       "    </tr>\n",
       "    <tr>\n",
       "      <th>63</th>\n",
       "      <td>0.014587</td>\n",
       "      <td>0.021659</td>\n",
       "      <td>0.058136</td>\n",
       "      <td>0.009975</td>\n",
       "      <td>0.025940</td>\n",
       "      <td>0.660357</td>\n",
       "      <td>0.010991</td>\n",
       "      <td>0.094990</td>\n",
       "      <td>0.058188</td>\n",
       "      <td>0.006577</td>\n",
       "      <td>0.009318</td>\n",
       "      <td>0.004485</td>\n",
       "      <td>0.013462</td>\n",
       "      <td>0.011335</td>\n",
       "      <td>5</td>\n",
       "      <td>Шамиль Мусин</td>\n",
       "    </tr>\n",
       "    <tr>\n",
       "      <th>72</th>\n",
       "      <td>0.022264</td>\n",
       "      <td>0.005344</td>\n",
       "      <td>0.030095</td>\n",
       "      <td>0.016682</td>\n",
       "      <td>0.139206</td>\n",
       "      <td>0.525119</td>\n",
       "      <td>0.015733</td>\n",
       "      <td>0.134027</td>\n",
       "      <td>0.060181</td>\n",
       "      <td>0.005831</td>\n",
       "      <td>0.020659</td>\n",
       "      <td>0.008051</td>\n",
       "      <td>0.008460</td>\n",
       "      <td>0.008347</td>\n",
       "      <td>5</td>\n",
       "      <td>Евгений Чернявский</td>\n",
       "    </tr>\n",
       "    <tr>\n",
       "      <th>226</th>\n",
       "      <td>0.031606</td>\n",
       "      <td>0.006862</td>\n",
       "      <td>0.043555</td>\n",
       "      <td>0.002066</td>\n",
       "      <td>0.168961</td>\n",
       "      <td>0.573506</td>\n",
       "      <td>0.004656</td>\n",
       "      <td>0.122327</td>\n",
       "      <td>0.033733</td>\n",
       "      <td>0.001872</td>\n",
       "      <td>0.003037</td>\n",
       "      <td>0.001939</td>\n",
       "      <td>0.001840</td>\n",
       "      <td>0.004041</td>\n",
       "      <td>5</td>\n",
       "      <td>Олег Ермаков</td>\n",
       "    </tr>\n",
       "  </tbody>\n",
       "</table>\n",
       "</div>"
      ],
      "text/plain": [
       "     @topic_0  @topic_1  @topic_2  @topic_3  @topic_4  @topic_5  @topic_6  \\\n",
       "2    0.000000  0.000000  0.008189  0.240349  0.000000  0.701855  0.000000   \n",
       "63   0.014587  0.021659  0.058136  0.009975  0.025940  0.660357  0.010991   \n",
       "72   0.022264  0.005344  0.030095  0.016682  0.139206  0.525119  0.015733   \n",
       "226  0.031606  0.006862  0.043555  0.002066  0.168961  0.573506  0.004656   \n",
       "\n",
       "     @topic_7  @topic_8  @topic_9  @topic_10  @topic_11  @topic_12  @topic_13  \\\n",
       "2    0.009187  0.000000  0.000000   0.000000   0.000000   0.000000   0.040420   \n",
       "63   0.094990  0.058188  0.006577   0.009318   0.004485   0.013462   0.011335   \n",
       "72   0.134027  0.060181  0.005831   0.020659   0.008051   0.008460   0.008347   \n",
       "226  0.122327  0.033733  0.001872   0.003037   0.001939   0.001840   0.004041   \n",
       "\n",
       "     cluster               names  \n",
       "2          5       Михаил Пенкин  \n",
       "63         5        Шамиль Мусин  \n",
       "72         5  Евгений Чернявский  \n",
       "226        5        Олег Ермаков  "
      ]
     },
     "execution_count": 109,
     "metadata": {},
     "output_type": "execute_result"
    }
   ],
   "source": [
    "K = M[M['cluster'] == 5]\n",
    "K[K['@topic_5'] > .5]"
   ]
  },
  {
   "cell_type": "markdown",
   "metadata": {},
   "source": [
    "$\\textbf{Итог:}$\n",
    "\n",
    "Михаил Пенкин - преподаватель МФТИ\n",
    "\n",
    "Шамиль Мусин - работает в Молодежнем Комитете МФТИ\n",
    "\n",
    "Евгений Чернявский - преподаватель МФТИ\n",
    "\n",
    "Олег Ермаков - представитель 3 курса ФУПМ в студсовете."
   ]
  },
  {
   "cell_type": "markdown",
   "metadata": {},
   "source": [
    "$\\textbf{P.S.}$\n",
    "\n",
    "Надеюсь, Вам понравилась работа :)\n",
    "\n",
    "Мои контакты:\n",
    "\n",
    "тел. 89153247882\n",
    "\n",
    "mail: minovichkov@gmail.com"
   ]
  }
 ],
 "metadata": {
  "kernelspec": {
   "display_name": "Python 2",
   "language": "python",
   "name": "python2"
  },
  "language_info": {
   "codemirror_mode": {
    "name": "ipython",
    "version": 2
   },
   "file_extension": ".py",
   "mimetype": "text/x-python",
   "name": "python",
   "nbconvert_exporter": "python",
   "pygments_lexer": "ipython2",
   "version": "2.7.11"
  }
 },
 "nbformat": 4,
 "nbformat_minor": 0
}
